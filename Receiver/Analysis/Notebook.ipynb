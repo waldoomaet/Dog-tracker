{
 "cells": [
  {
   "cell_type": "code",
   "execution_count": null,
   "metadata": {},
   "outputs": [],
   "source": [
    "from tinydb import TinyDB, Query\n",
    "from datetime import datetime\n",
    "import gmaps\n",
    "import collections\n",
    "\n",
    "collections.Iterable = collections.abc.Iterable\n",
    "\n",
    "db = TinyDB(r\"C:\\Users\\waldo\\Desktop\\Projects\\Dog tracker\\Receiver\\local_save.json\")"
   ]
  },
  {
   "cell_type": "code",
   "execution_count": null,
   "metadata": {},
   "outputs": [],
   "source": [
    "raw_data = []\n",
    "data = []\n",
    "data_label = []\n",
    "threshold = datetime(2022, 11, 4, 15, 0, 0)\n",
    "for field in db.all():\n",
    "    field_data = field[\"output\"]\n",
    "    sent_date = datetime.strptime(field_data[\"sent_time\"], \"%m/%d/%Y, %H:%M:%S\")\n",
    "    if sent_date > threshold:\n",
    "        raw_data.append(field_data)\n",
    "        latitude = float(str(field_data[\"latitude\"])[:2]) + (float(str(field_data[\"latitude\"])[2:]) / 60)\n",
    "        longitude = float(str(field_data[\"longitude\"])[:2]) + (float(str(field_data[\"longitude\"])[2:]) / 60)\n",
    "        data.append((latitude, -longitude))\n",
    "        data_label.append(sent_date.strftime(\"%m/%d/%Y, %H:%M:%S\"))"
   ]
  },
  {
   "cell_type": "code",
   "execution_count": null,
   "metadata": {},
   "outputs": [],
   "source": [
    "for i in range(len(data)):\n",
    "    print(f\"{data_label[i]} -> {data[i]} -> ({raw_data[i]['ew_indicator']}, {raw_data[i]['ns_indicator']})\")"
   ]
  },
  {
   "cell_type": "code",
   "execution_count": null,
   "metadata": {},
   "outputs": [],
   "source": [
    "gmaps.configure()\n",
    "\n",
    "fig = gmaps.figure()\n",
    "markers = gmaps.marker_layer(data, hover_text=data_label)\n",
    "fig.add_layer(markers)\n",
    "fig"
   ]
  }
 ],
 "metadata": {
  "kernelspec": {
   "display_name": "Python 3.10.5 ('env': venv)",
   "language": "python",
   "name": "python3"
  },
  "language_info": {
   "codemirror_mode": {
    "name": "ipython",
    "version": 3
   },
   "file_extension": ".py",
   "mimetype": "text/x-python",
   "name": "python",
   "nbconvert_exporter": "python",
   "pygments_lexer": "ipython3",
   "version": "3.10.5"
  },
  "orig_nbformat": 4,
  "vscode": {
   "interpreter": {
    "hash": "4ab6096abdd13a2967003fe3ea05380f76f42f92f92fcbef84ccf1036e74b32b"
   }
  }
 },
 "nbformat": 4,
 "nbformat_minor": 2
}
